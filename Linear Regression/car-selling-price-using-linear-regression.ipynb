{
 "cells": [
  {
   "cell_type": "code",
   "execution_count": 1,
   "id": "94c31471",
   "metadata": {
    "_cell_guid": "b1076dfc-b9ad-4769-8c92-a6c4dae69d19",
    "_uuid": "8f2839f25d086af736a60e9eeb907d3b93b6e0e5",
    "execution": {
     "iopub.execute_input": "2022-10-18T02:46:49.155262Z",
     "iopub.status.busy": "2022-10-18T02:46:49.154374Z",
     "iopub.status.idle": "2022-10-18T02:46:49.172345Z",
     "shell.execute_reply": "2022-10-18T02:46:49.171518Z"
    },
    "papermill": {
     "duration": 0.029695,
     "end_time": "2022-10-18T02:46:49.175097",
     "exception": false,
     "start_time": "2022-10-18T02:46:49.145402",
     "status": "completed"
    },
    "tags": []
   },
   "outputs": [
    {
     "name": "stdout",
     "output_type": "stream",
     "text": [
      "/kaggle/input/cars-data/lrreg_data.csv\n"
     ]
    }
   ],
   "source": [
    "# This Python 3 environment comes with many helpful analytics libraries installed\n",
    "# It is defined by the kaggle/python Docker image: https://github.com/kaggle/docker-python\n",
    "# For example, here's several helpful packages to load\n",
    "\n",
    "import numpy as np # linear algebra\n",
    "import pandas as pd # data processing, CSV file I/O (e.g. pd.read_csv)\n",
    "\n",
    "# Input data files are available in the read-only \"../input/\" directory\n",
    "# For example, running this (by clicking run or pressing Shift+Enter) will list all files under the input directory\n",
    "\n",
    "import os\n",
    "for dirname, _, filenames in os.walk('/kaggle/input'):\n",
    "    for filename in filenames:\n",
    "        print(os.path.join(dirname, filename))\n",
    "\n",
    "# You can write up to 20GB to the current directory (/kaggle/working/) that gets preserved as output when you create a version using \"Save & Run All\" \n",
    "# You can also write temporary files to /kaggle/temp/, but they won't be saved outside of the current session"
   ]
  },
  {
   "cell_type": "code",
   "execution_count": 2,
   "id": "b5f1b247",
   "metadata": {
    "execution": {
     "iopub.execute_input": "2022-10-18T02:46:49.188606Z",
     "iopub.status.busy": "2022-10-18T02:46:49.187396Z",
     "iopub.status.idle": "2022-10-18T02:46:51.288500Z",
     "shell.execute_reply": "2022-10-18T02:46:51.287084Z"
    },
    "papermill": {
     "duration": 2.111034,
     "end_time": "2022-10-18T02:46:51.291661",
     "exception": false,
     "start_time": "2022-10-18T02:46:49.180627",
     "status": "completed"
    },
    "tags": []
   },
   "outputs": [],
   "source": [
    "import pandas as pd\n",
    "import numpy as np\n",
    "import matplotlib.pyplot as plt\n",
    "import seaborn as sns\n",
    "from sklearn.model_selection import train_test_split\n",
    "import statsmodels.api as sm\n",
    "import statsmodels.formula.api as smf"
   ]
  },
  {
   "cell_type": "code",
   "execution_count": 3,
   "id": "9dcefaa6",
   "metadata": {
    "execution": {
     "iopub.execute_input": "2022-10-18T02:46:51.305170Z",
     "iopub.status.busy": "2022-10-18T02:46:51.304232Z",
     "iopub.status.idle": "2022-10-18T02:46:51.314458Z",
     "shell.execute_reply": "2022-10-18T02:46:51.313112Z"
    },
    "papermill": {
     "duration": 0.019596,
     "end_time": "2022-10-18T02:46:51.316942",
     "exception": false,
     "start_time": "2022-10-18T02:46:51.297346",
     "status": "completed"
    },
    "tags": []
   },
   "outputs": [
    {
     "data": {
      "text/plain": [
       "'/kaggle/working'"
      ]
     },
     "execution_count": 3,
     "metadata": {},
     "output_type": "execute_result"
    }
   ],
   "source": [
    "import os\n",
    "os.getcwd()"
   ]
  },
  {
   "cell_type": "code",
   "execution_count": 4,
   "id": "adda20af",
   "metadata": {
    "execution": {
     "iopub.execute_input": "2022-10-18T02:46:51.330099Z",
     "iopub.status.busy": "2022-10-18T02:46:51.329680Z",
     "iopub.status.idle": "2022-10-18T02:46:51.364127Z",
     "shell.execute_reply": "2022-10-18T02:46:51.362961Z"
    },
    "papermill": {
     "duration": 0.043955,
     "end_time": "2022-10-18T02:46:51.366423",
     "exception": false,
     "start_time": "2022-10-18T02:46:51.322468",
     "status": "completed"
    },
    "tags": []
   },
   "outputs": [
    {
     "data": {
      "text/html": [
       "<div>\n",
       "<style scoped>\n",
       "    .dataframe tbody tr th:only-of-type {\n",
       "        vertical-align: middle;\n",
       "    }\n",
       "\n",
       "    .dataframe tbody tr th {\n",
       "        vertical-align: top;\n",
       "    }\n",
       "\n",
       "    .dataframe thead th {\n",
       "        text-align: right;\n",
       "    }\n",
       "</style>\n",
       "<table border=\"1\" class=\"dataframe\">\n",
       "  <thead>\n",
       "    <tr style=\"text-align: right;\">\n",
       "      <th></th>\n",
       "      <th>Id</th>\n",
       "      <th>Car_Name</th>\n",
       "      <th>Aspirational_Value</th>\n",
       "      <th>Age</th>\n",
       "      <th>km_driven</th>\n",
       "      <th>fuel</th>\n",
       "      <th>transmission</th>\n",
       "      <th>selling_price</th>\n",
       "    </tr>\n",
       "  </thead>\n",
       "  <tbody>\n",
       "    <tr>\n",
       "      <th>0</th>\n",
       "      <td>1</td>\n",
       "      <td>WagonR</td>\n",
       "      <td>General</td>\n",
       "      <td>15</td>\n",
       "      <td>50000</td>\n",
       "      <td>Petrol</td>\n",
       "      <td>Manual</td>\n",
       "      <td>135000</td>\n",
       "    </tr>\n",
       "    <tr>\n",
       "      <th>1</th>\n",
       "      <td>7</td>\n",
       "      <td>Indigo</td>\n",
       "      <td>General</td>\n",
       "      <td>8</td>\n",
       "      <td>60000</td>\n",
       "      <td>Petrol</td>\n",
       "      <td>Manual</td>\n",
       "      <td>240000</td>\n",
       "    </tr>\n",
       "    <tr>\n",
       "      <th>2</th>\n",
       "      <td>9</td>\n",
       "      <td>Celerio</td>\n",
       "      <td>General</td>\n",
       "      <td>5</td>\n",
       "      <td>78000</td>\n",
       "      <td>CNG</td>\n",
       "      <td>Manual</td>\n",
       "      <td>365000</td>\n",
       "    </tr>\n",
       "    <tr>\n",
       "      <th>3</th>\n",
       "      <td>17</td>\n",
       "      <td>Amaze</td>\n",
       "      <td>General</td>\n",
       "      <td>8</td>\n",
       "      <td>141000</td>\n",
       "      <td>Diesel</td>\n",
       "      <td>Manual</td>\n",
       "      <td>450000</td>\n",
       "    </tr>\n",
       "    <tr>\n",
       "      <th>4</th>\n",
       "      <td>19</td>\n",
       "      <td>Xcent</td>\n",
       "      <td>General</td>\n",
       "      <td>6</td>\n",
       "      <td>25000</td>\n",
       "      <td>Petrol</td>\n",
       "      <td>Manual</td>\n",
       "      <td>550000</td>\n",
       "    </tr>\n",
       "  </tbody>\n",
       "</table>\n",
       "</div>"
      ],
      "text/plain": [
       "   Id Car_Name Aspirational_Value  Age  km_driven    fuel transmission  \\\n",
       "0   1   WagonR            General   15      50000  Petrol       Manual   \n",
       "1   7   Indigo            General    8      60000  Petrol       Manual   \n",
       "2   9  Celerio            General    5      78000     CNG       Manual   \n",
       "3  17    Amaze            General    8     141000  Diesel       Manual   \n",
       "4  19    Xcent            General    6      25000  Petrol       Manual   \n",
       "\n",
       "   selling_price  \n",
       "0         135000  \n",
       "1         240000  \n",
       "2         365000  \n",
       "3         450000  \n",
       "4         550000  "
      ]
     },
     "execution_count": 4,
     "metadata": {},
     "output_type": "execute_result"
    }
   ],
   "source": [
    "df = pd.read_csv('../input/cars-data/lrreg_data.csv')\n",
    "df.head()"
   ]
  },
  {
   "cell_type": "code",
   "execution_count": 5,
   "id": "03405be2",
   "metadata": {
    "execution": {
     "iopub.execute_input": "2022-10-18T02:46:51.380572Z",
     "iopub.status.busy": "2022-10-18T02:46:51.380076Z",
     "iopub.status.idle": "2022-10-18T02:46:51.406731Z",
     "shell.execute_reply": "2022-10-18T02:46:51.405561Z"
    },
    "papermill": {
     "duration": 0.037509,
     "end_time": "2022-10-18T02:46:51.409758",
     "exception": false,
     "start_time": "2022-10-18T02:46:51.372249",
     "status": "completed"
    },
    "tags": []
   },
   "outputs": [
    {
     "name": "stdout",
     "output_type": "stream",
     "text": [
      "<class 'pandas.core.frame.DataFrame'>\n",
      "RangeIndex: 1200 entries, 0 to 1199\n",
      "Data columns (total 8 columns):\n",
      " #   Column              Non-Null Count  Dtype \n",
      "---  ------              --------------  ----- \n",
      " 0   Id                  1200 non-null   int64 \n",
      " 1   Car_Name            1200 non-null   object\n",
      " 2   Aspirational_Value  1200 non-null   object\n",
      " 3   Age                 1200 non-null   int64 \n",
      " 4   km_driven           1200 non-null   int64 \n",
      " 5   fuel                1200 non-null   object\n",
      " 6   transmission        1200 non-null   object\n",
      " 7   selling_price       1200 non-null   int64 \n",
      "dtypes: int64(4), object(4)\n",
      "memory usage: 75.1+ KB\n"
     ]
    }
   ],
   "source": [
    "df.info()"
   ]
  },
  {
   "cell_type": "code",
   "execution_count": 6,
   "id": "15332546",
   "metadata": {
    "execution": {
     "iopub.execute_input": "2022-10-18T02:46:51.423041Z",
     "iopub.status.busy": "2022-10-18T02:46:51.422569Z",
     "iopub.status.idle": "2022-10-18T02:46:51.431617Z",
     "shell.execute_reply": "2022-10-18T02:46:51.430714Z"
    },
    "papermill": {
     "duration": 0.018162,
     "end_time": "2022-10-18T02:46:51.433811",
     "exception": false,
     "start_time": "2022-10-18T02:46:51.415649",
     "status": "completed"
    },
    "tags": []
   },
   "outputs": [
    {
     "data": {
      "text/plain": [
       "Id                    0\n",
       "Car_Name              0\n",
       "Aspirational_Value    0\n",
       "Age                   0\n",
       "km_driven             0\n",
       "fuel                  0\n",
       "transmission          0\n",
       "selling_price         0\n",
       "dtype: int64"
      ]
     },
     "execution_count": 6,
     "metadata": {},
     "output_type": "execute_result"
    }
   ],
   "source": [
    "df.isna().sum()"
   ]
  },
  {
   "cell_type": "code",
   "execution_count": 7,
   "id": "f8b2c96c",
   "metadata": {
    "execution": {
     "iopub.execute_input": "2022-10-18T02:46:51.447754Z",
     "iopub.status.busy": "2022-10-18T02:46:51.447300Z",
     "iopub.status.idle": "2022-10-18T02:46:51.649181Z",
     "shell.execute_reply": "2022-10-18T02:46:51.648180Z"
    },
    "papermill": {
     "duration": 0.211643,
     "end_time": "2022-10-18T02:46:51.651406",
     "exception": false,
     "start_time": "2022-10-18T02:46:51.439763",
     "status": "completed"
    },
    "tags": []
   },
   "outputs": [
    {
     "data": {
      "image/png": "[encoded data removed]",
      "text/plain": [
       "<Figure size 432x288 with 1 Axes>"
      ]
     },
     "metadata": {
      "needs_background": "light"
     },
     "output_type": "display_data"
    }
   ],
   "source": [
    "sns.boxplot(x='Age', data=df)\n",
    "plt.show()"
   ]
  },
  {
   "cell_type": "code",
   "execution_count": 8,
   "id": "1c2f8562",
   "metadata": {
    "execution": {
     "iopub.execute_input": "2022-10-18T02:46:51.665558Z",
     "iopub.status.busy": "2022-10-18T02:46:51.665097Z",
     "iopub.status.idle": "2022-10-18T02:46:51.932859Z",
     "shell.execute_reply": "2022-10-18T02:46:51.931580Z"
    },
    "papermill": {
     "duration": 0.278343,
     "end_time": "2022-10-18T02:46:51.935677",
     "exception": false,
     "start_time": "2022-10-18T02:46:51.657334",
     "status": "completed"
    },
    "tags": []
   },
   "outputs": [
    {
     "name": "stdout",
     "output_type": "stream",
     "text": [
      "outlier in dataset is [25, 24]\n",
      "minimum of the outlier list 24\n",
      "Median of the column excluding outliers--> 8.0\n"
     ]
    }
   ],
   "source": [
    "## Outlier treatment with Z Score\n",
    "\n",
    "threshold = 3\n",
    "outlier = []\n",
    "\n",
    "for i in df['Age']:\n",
    "    z = (i-df['Age'].mean())/df['Age'].std()\n",
    "    if z > threshold:\n",
    "        outlier.append(i)\n",
    "        \n",
    "print('outlier in dataset is', outlier)\n",
    "print('minimum of the outlier list', min(outlier))\n",
    "\n",
    "## calculate the median for the column excluding the outlier\n",
    "med = df.loc[df['Age']<= min(outlier), 'Age'].median()\n",
    "print('Median of the column excluding outliers-->',med)\n",
    "\n",
    "f = lambda x: med if x>= min(outlier) else x\n",
    "df['out_treated_age'] = df['Age'].map(f)\n",
    "\n",
    "max(df['out_treated_age'])\n",
    "\n",
    "df.drop(['Age'], axis=1,inplace = True)"
   ]
  },
  {
   "cell_type": "code",
   "execution_count": 9,
   "id": "050ab01d",
   "metadata": {
    "execution": {
     "iopub.execute_input": "2022-10-18T02:46:51.949462Z",
     "iopub.status.busy": "2022-10-18T02:46:51.949013Z",
     "iopub.status.idle": "2022-10-18T02:46:52.123988Z",
     "shell.execute_reply": "2022-10-18T02:46:52.122767Z"
    },
    "papermill": {
     "duration": 0.184443,
     "end_time": "2022-10-18T02:46:52.126298",
     "exception": false,
     "start_time": "2022-10-18T02:46:51.941855",
     "status": "completed"
    },
    "tags": []
   },
   "outputs": [
    {
     "data": {
      "image/png": "[encoded data removed]",
      "text/plain": [
       "<Figure size 432x288 with 1 Axes>"
      ]
     },
     "metadata": {
      "needs_background": "light"
     },
     "output_type": "display_data"
    }
   ],
   "source": [
    "sns.boxplot(x='out_treated_age', data=df)\n",
    "plt.show()"
   ]
  },
  {
   "cell_type": "code",
   "execution_count": 10,
   "id": "0fd9c301",
   "metadata": {
    "execution": {
     "iopub.execute_input": "2022-10-18T02:46:52.140559Z",
     "iopub.status.busy": "2022-10-18T02:46:52.140124Z",
     "iopub.status.idle": "2022-10-18T02:46:52.307100Z",
     "shell.execute_reply": "2022-10-18T02:46:52.305910Z"
    },
    "papermill": {
     "duration": 0.177286,
     "end_time": "2022-10-18T02:46:52.309853",
     "exception": false,
     "start_time": "2022-10-18T02:46:52.132567",
     "status": "completed"
    },
    "tags": []
   },
   "outputs": [
    {
     "data": {
      "image/png": "[encoded data removed]",
      "text/plain": [
       "<Figure size 432x288 with 1 Axes>"
      ]
     },
     "metadata": {
      "needs_background": "light"
     },
     "output_type": "display_data"
    }
   ],
   "source": [
    "sns.boxplot(x='km_driven', data=df)\n",
    "plt.show()"
   ]
  },
  {
   "cell_type": "code",
   "execution_count": 11,
   "id": "f7303b6d",
   "metadata": {
    "execution": {
     "iopub.execute_input": "2022-10-18T02:46:52.324358Z",
     "iopub.status.busy": "2022-10-18T02:46:52.323942Z",
     "iopub.status.idle": "2022-10-18T02:46:52.587556Z",
     "shell.execute_reply": "2022-10-18T02:46:52.585881Z"
    },
    "papermill": {
     "duration": 0.273699,
     "end_time": "2022-10-18T02:46:52.590036",
     "exception": false,
     "start_time": "2022-10-18T02:46:52.316337",
     "status": "completed"
    },
    "tags": []
   },
   "outputs": [
    {
     "name": "stdout",
     "output_type": "stream",
     "text": [
      "outlier in dataset is [230000, 220000, 220000, 250000]\n",
      "minimum of the outlier list 220000\n",
      "Median of the column excluding outliers--> 60000.0\n"
     ]
    }
   ],
   "source": [
    "## Outlier treatment with Z Score\n",
    "\n",
    "threshold = 3\n",
    "outlier = []\n",
    "\n",
    "for i in df['km_driven']:\n",
    "    z = (i-df['km_driven'].mean())/df['km_driven'].std()\n",
    "    if z > threshold:\n",
    "        outlier.append(i)\n",
    "        \n",
    "print('outlier in dataset is', outlier)\n",
    "print('minimum of the outlier list', min(outlier))\n",
    "\n",
    "## calculate the median for the column excluding the outlier\n",
    "med = df.loc[df['km_driven']<= min(outlier), 'km_driven'].median()\n",
    "print('Median of the column excluding outliers-->',med)\n",
    "\n",
    "f = lambda x: med if x>= min(outlier) else x\n",
    "df['out_treated_km_driven'] = df['km_driven'].map(f)\n",
    "\n",
    "max(df['out_treated_km_driven'])\n",
    "\n",
    "df.drop(['km_driven'], axis=1,inplace = True)"
   ]
  },
  {
   "cell_type": "code",
   "execution_count": 12,
   "id": "1c95013d",
   "metadata": {
    "execution": {
     "iopub.execute_input": "2022-10-18T02:46:52.606423Z",
     "iopub.status.busy": "2022-10-18T02:46:52.605998Z",
     "iopub.status.idle": "2022-10-18T02:46:52.785621Z",
     "shell.execute_reply": "2022-10-18T02:46:52.784549Z"
    },
    "papermill": {
     "duration": 0.190841,
     "end_time": "2022-10-18T02:46:52.788615",
     "exception": false,
     "start_time": "2022-10-18T02:46:52.597774",
     "status": "completed"
    },
    "tags": []
   },
   "outputs": [
    {
     "data": {
      "image/png": "[encoded data removed]",
      "text/plain": [
       "<Figure size 432x288 with 1 Axes>"
      ]
     },
     "metadata": {
      "needs_background": "light"
     },
     "output_type": "display_data"
    }
   ],
   "source": [
    "sns.boxplot(x='out_treated_km_driven', data=df)\n",
    "plt.show()"
   ]
  },
  {
   "cell_type": "code",
   "execution_count": 13,
   "id": "efb04fe7",
   "metadata": {
    "execution": {
     "iopub.execute_input": "2022-10-18T02:46:52.803880Z",
     "iopub.status.busy": "2022-10-18T02:46:52.803122Z",
     "iopub.status.idle": "2022-10-18T02:46:52.818017Z",
     "shell.execute_reply": "2022-10-18T02:46:52.816954Z"
    },
    "papermill": {
     "duration": 0.025221,
     "end_time": "2022-10-18T02:46:52.820441",
     "exception": false,
     "start_time": "2022-10-18T02:46:52.795220",
     "status": "completed"
    },
    "tags": []
   },
   "outputs": [
    {
     "data": {
      "text/plain": [
       "Index(['selling_price', 'out_treated_age', 'out_treated_km_driven',\n",
       "       'Aspirational_Value_Premium', 'fuel_Diesel', 'fuel_LPG', 'fuel_Petrol',\n",
       "       'transmission_Manual'],\n",
       "      dtype='object')"
      ]
     },
     "execution_count": 13,
     "metadata": {},
     "output_type": "execute_result"
    }
   ],
   "source": [
    "data = df.drop(['Car_Name','Id'],axis=1)\n",
    "dummy_data = pd.get_dummies(data,drop_first = True)\n",
    "dummy_data.columns"
   ]
  },
  {
   "cell_type": "code",
   "execution_count": 14,
   "id": "332fb5a0",
   "metadata": {
    "execution": {
     "iopub.execute_input": "2022-10-18T02:46:52.836053Z",
     "iopub.status.busy": "2022-10-18T02:46:52.835272Z",
     "iopub.status.idle": "2022-10-18T02:46:52.877606Z",
     "shell.execute_reply": "2022-10-18T02:46:52.875523Z"
    },
    "papermill": {
     "duration": 0.053422,
     "end_time": "2022-10-18T02:46:52.880628",
     "exception": false,
     "start_time": "2022-10-18T02:46:52.827206",
     "status": "completed"
    },
    "tags": []
   },
   "outputs": [
    {
     "name": "stdout",
     "output_type": "stream",
     "text": [
      "                            OLS Regression Results                            \n",
      "==============================================================================\n",
      "Dep. Variable:          selling_price   R-squared:                       0.524\n",
      "Model:                            OLS   Adj. R-squared:                  0.520\n",
      "Method:                 Least Squares   F-statistic:                     149.5\n",
      "Date:                Tue, 18 Oct 2022   Prob (F-statistic):          1.51e-148\n",
      "Time:                        02:46:52   Log-Likelihood:                -13802.\n",
      "No. Observations:                 960   AIC:                         2.762e+04\n",
      "Df Residuals:                     952   BIC:                         2.766e+04\n",
      "Df Model:                           7                                         \n",
      "Covariance Type:            nonrobust                                         \n",
      "==============================================================================================\n",
      "                                 coef    std err          t      P>|t|      [0.025      0.975]\n",
      "----------------------------------------------------------------------------------------------\n",
      "const                       1.553e+06   1.52e+05     10.207      0.000    1.25e+06    1.85e+06\n",
      "out_treated_age            -3.351e+04   4235.129     -7.912      0.000   -4.18e+04   -2.52e+04\n",
      "out_treated_km_driven         -2.2116      0.457     -4.843      0.000      -3.108      -1.315\n",
      "Aspirational_Value_Premium   3.72e+05   4.04e+04      9.219      0.000    2.93e+05    4.51e+05\n",
      "fuel_Diesel                 2.595e+05   1.44e+05      1.801      0.072   -2.33e+04    5.42e+05\n",
      "fuel_LPG                    9.226e+04   2.25e+05      0.410      0.682   -3.49e+05    5.34e+05\n",
      "fuel_Petrol                 1.335e+04   1.44e+05      0.093      0.926   -2.68e+05    2.95e+05\n",
      "transmission_Manual         -8.83e+05   5.08e+04    -17.373      0.000   -9.83e+05   -7.83e+05\n",
      "==============================================================================\n",
      "Omnibus:                     1083.508   Durbin-Watson:                   2.026\n",
      "Prob(Omnibus):                  0.000   Jarque-Bera (JB):           154453.888\n",
      "Skew:                           5.271   Prob(JB):                         0.00\n",
      "Kurtosis:                      64.239   Cond. No.                     1.65e+06\n",
      "==============================================================================\n",
      "\n",
      "Notes:\n",
      "[1] Standard Errors assume that the covariance matrix of the errors is correctly specified.\n",
      "[2] The condition number is large, 1.65e+06. This might indicate that there are\n",
      "strong multicollinearity or other numerical problems.\n"
     ]
    }
   ],
   "source": [
    "y=dummy_data['selling_price']\n",
    "X=dummy_data.drop('selling_price', axis=1)\n",
    "X_train, X_test, y_train, y_test = train_test_split(X,y, test_size=0.2, random_state=1)\n",
    "train_data = pd.concat([X_train,y_train], axis = 1)\n",
    "test_data = pd.concat([X_test,y_test], axis = 1)\n",
    "\n",
    "X_train = sm.add_constant(X_train)\n",
    "model = sm.OLS(y_train,X_train)\n",
    "reg_model = model.fit()\n",
    "print(reg_model.summary())"
   ]
  },
  {
   "cell_type": "code",
   "execution_count": 15,
   "id": "204a66e5",
   "metadata": {
    "execution": {
     "iopub.execute_input": "2022-10-18T02:46:52.897049Z",
     "iopub.status.busy": "2022-10-18T02:46:52.896621Z",
     "iopub.status.idle": "2022-10-18T02:46:52.928465Z",
     "shell.execute_reply": "2022-10-18T02:46:52.927062Z"
    },
    "papermill": {
     "duration": 0.043401,
     "end_time": "2022-10-18T02:46:52.931244",
     "exception": false,
     "start_time": "2022-10-18T02:46:52.887843",
     "status": "completed"
    },
    "tags": []
   },
   "outputs": [
    {
     "name": "stdout",
     "output_type": "stream",
     "text": [
      "                            OLS Regression Results                            \n",
      "==============================================================================\n",
      "Dep. Variable:          selling_price   R-squared:                       0.495\n",
      "Model:                            OLS   Adj. R-squared:                  0.493\n",
      "Method:                 Least Squares   F-statistic:                     233.9\n",
      "Date:                Tue, 18 Oct 2022   Prob (F-statistic):          5.73e-140\n",
      "Time:                        02:46:52   Log-Likelihood:                -13830.\n",
      "No. Observations:                 960   AIC:                         2.767e+04\n",
      "Df Residuals:                     955   BIC:                         2.769e+04\n",
      "Df Model:                           4                                         \n",
      "Covariance Type:            nonrobust                                         \n",
      "==============================================================================================\n",
      "                                 coef    std err          t      P>|t|      [0.025      0.975]\n",
      "----------------------------------------------------------------------------------------------\n",
      "Intercept                   1.688e+06   5.82e+04     29.011      0.000    1.57e+06     1.8e+06\n",
      "out_treated_age            -4.498e+04   4057.496    -11.086      0.000   -5.29e+04    -3.7e+04\n",
      "out_treated_km_driven         -0.7778      0.426     -1.826      0.068      -1.614       0.058\n",
      "Aspirational_Value_Premium  4.548e+05   3.99e+04     11.391      0.000    3.76e+05    5.33e+05\n",
      "transmission_Manual        -8.906e+05   5.22e+04    -17.048      0.000   -9.93e+05   -7.88e+05\n",
      "==============================================================================\n",
      "Omnibus:                     1055.656   Durbin-Watson:                   2.042\n",
      "Prob(Omnibus):                  0.000   Jarque-Bera (JB):           138203.438\n",
      "Skew:                           5.059   Prob(JB):                         0.00\n",
      "Kurtosis:                      60.902   Cond. No.                     4.05e+05\n",
      "==============================================================================\n",
      "\n",
      "Notes:\n",
      "[1] Standard Errors assume that the covariance matrix of the errors is correctly specified.\n",
      "[2] The condition number is large, 4.05e+05. This might indicate that there are\n",
      "strong multicollinearity or other numerical problems.\n"
     ]
    }
   ],
   "source": [
    "# 2nd Iteration of model training\n",
    "\n",
    "\n",
    "formula = 'selling_price ~ out_treated_age + out_treated_km_driven + Aspirational_Value_Premium + \\\n",
    "             transmission_Manual'\n",
    "\n",
    "X_train = sm.add_constant(X_train)\n",
    "model2 = smf.ols(formula,data = train_data)\n",
    "reg_model2 = model2.fit()\n",
    "print(reg_model2.summary())"
   ]
  },
  {
   "cell_type": "code",
   "execution_count": 16,
   "id": "4b613ae9",
   "metadata": {
    "execution": {
     "iopub.execute_input": "2022-10-18T02:46:52.947385Z",
     "iopub.status.busy": "2022-10-18T02:46:52.946903Z",
     "iopub.status.idle": "2022-10-18T02:46:52.975328Z",
     "shell.execute_reply": "2022-10-18T02:46:52.974181Z"
    },
    "papermill": {
     "duration": 0.03987,
     "end_time": "2022-10-18T02:46:52.978337",
     "exception": false,
     "start_time": "2022-10-18T02:46:52.938467",
     "status": "completed"
    },
    "tags": []
   },
   "outputs": [],
   "source": [
    "train_data_for_pred = train_data[['out_treated_age','out_treated_km_driven','Aspirational_Value_Premium','transmission_Manual']]\n",
    "\n",
    "train_data_for_pred = sm.add_constant(train_data_for_pred)\n",
    "train_pred = reg_model2.predict(train_data_for_pred)\n",
    "\n",
    "test_data_for_pred = test_data[['out_treated_age','out_treated_km_driven','Aspirational_Value_Premium','transmission_Manual']]\n",
    "test_data_for_pred = sm.add_constant(test_data_for_pred)\n",
    "test_pred = reg_model2.predict(test_data_for_pred)"
   ]
  },
  {
   "cell_type": "code",
   "execution_count": 17,
   "id": "05e1efd2",
   "metadata": {
    "execution": {
     "iopub.execute_input": "2022-10-18T02:46:52.994442Z",
     "iopub.status.busy": "2022-10-18T02:46:52.993977Z",
     "iopub.status.idle": "2022-10-18T02:46:53.001332Z",
     "shell.execute_reply": "2022-10-18T02:46:53.000152Z"
    },
    "papermill": {
     "duration": 0.018206,
     "end_time": "2022-10-18T02:46:53.003804",
     "exception": false,
     "start_time": "2022-10-18T02:46:52.985598",
     "status": "completed"
    },
    "tags": []
   },
   "outputs": [],
   "source": [
    "train_residuals =  abs(train_data['selling_price']) - abs(train_pred)\n",
    "\n",
    "test_residuals = abs(test_data['selling_price']) - abs(test_pred)"
   ]
  },
  {
   "cell_type": "code",
   "execution_count": 18,
   "id": "495810ef",
   "metadata": {
    "execution": {
     "iopub.execute_input": "2022-10-18T02:46:53.019640Z",
     "iopub.status.busy": "2022-10-18T02:46:53.019141Z",
     "iopub.status.idle": "2022-10-18T02:46:53.026992Z",
     "shell.execute_reply": "2022-10-18T02:46:53.025921Z"
    },
    "papermill": {
     "duration": 0.018541,
     "end_time": "2022-10-18T02:46:53.029349",
     "exception": false,
     "start_time": "2022-10-18T02:46:53.010808",
     "status": "completed"
    },
    "tags": []
   },
   "outputs": [
    {
     "data": {
      "text/plain": [
       "-0.2787458835019477"
      ]
     },
     "execution_count": 18,
     "metadata": {},
     "output_type": "execute_result"
    }
   ],
   "source": [
    "np.mean(train_residuals/abs(train_data['selling_price']))"
   ]
  },
  {
   "cell_type": "code",
   "execution_count": 19,
   "id": "ba74c4ec",
   "metadata": {
    "execution": {
     "iopub.execute_input": "2022-10-18T02:46:53.045634Z",
     "iopub.status.busy": "2022-10-18T02:46:53.045127Z",
     "iopub.status.idle": "2022-10-18T02:46:53.054128Z",
     "shell.execute_reply": "2022-10-18T02:46:53.052936Z"
    },
    "papermill": {
     "duration": 0.019895,
     "end_time": "2022-10-18T02:46:53.056724",
     "exception": false,
     "start_time": "2022-10-18T02:46:53.036829",
     "status": "completed"
    },
    "tags": []
   },
   "outputs": [
    {
     "data": {
      "text/plain": [
       "-0.28078987204251116"
      ]
     },
     "execution_count": 19,
     "metadata": {},
     "output_type": "execute_result"
    }
   ],
   "source": [
    "np.mean(test_residuals/abs(test_data['selling_price']))"
   ]
  }
 ],
 "metadata": {
  "kernelspec": {
   "display_name": "Python 3",
   "language": "python",
   "name": "python3"
  },
  "language_info": {
   "codemirror_mode": {
    "name": "ipython",
    "version": 3
   },
   "file_extension": ".py",
   "mimetype": "text/x-python",
   "name": "python",
   "nbconvert_exporter": "python",
   "pygments_lexer": "ipython3",
   "version": "3.7.12"
  },
  "papermill": {
   "default_parameters": {},
   "duration": 13.894937,
   "end_time": "2022-10-18T02:46:53.888025",
   "environment_variables": {},
   "exception": null,
   "input_path": "__notebook__.ipynb",
   "output_path": "__notebook__.ipynb",
   "parameters": {},
   "start_time": "2022-10-18T02:46:39.993088",
   "version": "2.3.4"
  }
 },
 "nbformat": 4,
 "nbformat_minor": 5
}
